{
  "cells": [
    {
      "cell_type": "markdown",
      "metadata": {
        "id": "POFVULTz4dvZ"
      },
      "source": [
        "# Laboratorio 2: Armado de un esquema de aprendizaje automático\n",
        "\n",
        "En el laboratorio final se espera que puedan poner en práctica los conocimientos adquiridos en el curso, trabajando con un conjunto de datos de clasificación.\n",
        "\n",
        "El objetivo es que se introduzcan en el desarrollo de un esquema para hacer tareas de aprendizaje automático: selección de un modelo, ajuste de hiperparámetros y evaluación.\n",
        "\n",
        "El conjunto de datos a utilizar está en `./data/loan_data.csv`. Si abren el archivo verán que al principio (las líneas que empiezan con `#`) describen el conjunto de datos y sus atributos (incluyendo el atributo de etiqueta o clase).\n",
        "\n",
        "Se espera que hagan uso de las herramientas vistas en el curso. Se espera que hagan uso especialmente de las herramientas brindadas por `scikit-learn`."
      ]
    },
    {
      "cell_type": "code",
      "execution_count": 1,
      "metadata": {
        "id": "b0IF7ksR4dva"
      },
      "outputs": [],
      "source": [
        "import numpy as np\n",
        "import pandas as pd\n",
        "\n",
        "# TODO: Agregar las librerías que hagan falta\n",
        "from sklearn.model_selection import train_test_split"
      ]
    },
    {
      "cell_type": "markdown",
      "metadata": {
        "id": "zFG7hLsK4dvb"
      },
      "source": [
        "## Carga de datos y división en entrenamiento y evaluación\n",
        "\n",
        "La celda siguiente se encarga de la carga de datos (haciendo uso de pandas). Estos serán los que se trabajarán en el resto del laboratorio."
      ]
    },
    {
      "cell_type": "code",
      "execution_count": 2,
      "metadata": {
        "id": "jK3QheHE4dvb"
      },
      "outputs": [],
      "source": [
        "dataset = pd.read_csv(\"https://raw.githubusercontent.com/DiploDatos/IntroduccionAprendizajeAutomatico/master/data/loan_data.csv\", comment=\"#\")\n",
        "\n",
        "# División entre instancias y etiquetas\n",
        "X, y = dataset.iloc[:, 1:], dataset.TARGET\n",
        "\n",
        "# división entre entrenamiento y evaluación\n",
        "X_train, X_test, y_train, y_test = train_test_split(X, y, test_size=0.2, random_state=0)"
      ]
    },
    {
      "cell_type": "markdown",
      "metadata": {
        "id": "msXiwU5u4dvb"
      },
      "source": [
        "\n",
        "Documentación:\n",
        "\n",
        "- https://scikit-learn.org/stable/modules/generated/sklearn.model_selection.train_test_split.html"
      ]
    },
    {
      "cell_type": "markdown",
      "metadata": {
        "id": "nriN_0q04dvb"
      },
      "source": [
        "## Ejercicio 1: Descripción de los Datos y la Tarea\n",
        "\n",
        "Responder las siguientes preguntas:\n",
        "\n",
        "1. ¿De qué se trata el conjunto de datos?\n",
        "\n",
        "<font color='blue'>El dataset proporcionado se denomina *Home Equity Dataset (HMEQ)*. En Inglés, *home equity* hace referencia a un préstamo hipotecario del cual se descuenta cualquier otra hipoteca que puede tener la propiedad. Por ejemplo, si la propiedad vale 100kUSD, y la misma tiene una hipoteca con un saldo de 60kUSD, entonces se puede pedir un *equity loan* hasta por un valor de 40kUSD. La traducción formal al español se encuentra como *préstamos sobre el valor líquido de la vivienda*. En particular, el dataset incorpora una serie de atributos para 1189 muestras con información sobre préstamos que no funcionaron como se esperaba (~20% de un total de 5960 casos). Se espera este dataset ayude a entidades financieras a decidir si se debería aprobar o no la adjudicación de un nuevo préstamo.</font>\n",
        "\n",
        "2. ¿Cuál es la variable objetivo que hay que predecir? ¿Qué significado tiene?\n",
        "\n",
        "<font color='blue'>La variable objetivo en el dataset figura bajo el nombre *TARGET*. La misma es una variable binaria que toma el valor *1* indentificando el caso en el tomador del préstamo ha caído en *default* (no ha pagado el crédito) o *0* para el caso en el cual el crédito derivó en un caso delictivo pero que de todas maneras fue correctamente reembolsado por el cliente. Se reportan un total de 1189 casos problemáticos.</font>\n",
        "\n",
        "3. ¿Qué información (atributos) hay disponible para hacer la predicción?\n",
        "\n",
        "<font color='blue'>El dataset incluye un total de 10 atributos + 1 variable objetivo (11 en total):\n",
        "  1. TARGET: Variable objetivo (*1* = default, *0* = reembolso).\n",
        "  2. LOAN: Monto total del préstamos solicitado.\n",
        "  3. MORTDUE: Monto que debe de la hipoteca actual.\n",
        "  4. VALUE: Valor de la propiedad (LOAN + MORTDUE <= VALUE).\n",
        "  5. YOJ: Cantidad de años en el trabajo actual.\n",
        "  6. DEROG: Cantidad de informes derogatorios enviados.\n",
        "  7. DELINQ: Cantidad de líneas de crédito en falta.\n",
        "  8. CLAGE: Edad en meses de la línea de crédito más antigua.\n",
        "  9. NINQ: Cantidad de líneas de créditos recientes.\n",
        "  10. CLNO: Cantidad de líneas de créditos.\n",
        "  11. DEBTINC: Ratio deuda-ingreso.</font>\n",
        "\n",
        "4. ¿Qué atributos imagina ud. que son los más determinantes para la predicción?\n",
        "\n",
        "<font color='blue'>Luego de explorar el dataset, sospechamos que los siguientes atributos son los más determinantes para detectar un caso de *default*:\n",
        "  1. DELINQ: Creemos que una cantidad de líneas de crédito en estado rebeldía indican una alta probabilidad de que el cliente entre en default.\n",
        "  2. DEROG: Creemos que la cantidad de intimaciones recibida por el aplicante es un índice directo de la posibilidad de que no pague el crédito. \n",
        "  3. DEBTINC: Creemos que mientras mayor sea la relación deuda-salario del aplicante, mayor son las chances de que el mismo no pueda enfrentar las obligaciones.</font>\n",
        "\n",
        "**No hace falta escribir código para responder estas preguntas.**"
      ]
    },
    {
      "cell_type": "markdown",
      "metadata": {
        "id": "z67WhemE4dvc"
      },
      "source": [
        "## Ejercicio 2: Predicción con Modelos Lineales\n",
        "\n",
        "En este ejercicio se entrenarán modelos lineales de clasificación para predecir la variable objetivo.\n",
        "\n",
        "Para ello, deberán utilizar la clase SGDClassifier de scikit-learn.\n",
        "\n",
        "Documentación:\n",
        "- https://scikit-learn.org/stable/modules/sgd.html\n",
        "- https://scikit-learn.org/stable/modules/generated/sklearn.linear_model.SGDClassifier.html\n"
      ]
    },
    {
      "cell_type": "markdown",
      "metadata": {
        "id": "FrdRt7Vl4dvc"
      },
      "source": [
        "### Ejercicio 2.1: SGDClassifier con hiperparámetros por defecto\n",
        "\n",
        "Entrenar y evaluar el clasificador SGDClassifier usando los valores por omisión de scikit-learn para todos los parámetros. Únicamente **fijar la semilla aleatoria** para hacer repetible el experimento.\n",
        "\n",
        "Evaluar sobre el conjunto de **entrenamiento** y sobre el conjunto de **evaluación**, reportando:\n",
        "- Accuracy\n",
        "- Precision\n",
        "- Recall\n",
        "- F1\n",
        "- matriz de confusión"
      ]
    },
    {
      "cell_type": "markdown",
      "source": [
        "#### Train Model"
      ],
      "metadata": {
        "id": "OjPacsW2s4J_"
      }
    },
    {
      "cell_type": "code",
      "source": [
        "# Input: Train and Test (10 attributes)\n",
        "X_train.shape, X_test.shape"
      ],
      "metadata": {
        "colab": {
          "base_uri": "https://localhost:8080/"
        },
        "id": "kNJHCSgHWvFq",
        "outputId": "49e81612-ec43-4324-cbbe-6dcb619daba2"
      },
      "execution_count": 3,
      "outputs": [
        {
          "output_type": "execute_result",
          "data": {
            "text/plain": [
              "((1483, 10), (371, 10))"
            ]
          },
          "metadata": {},
          "execution_count": 3
        }
      ]
    },
    {
      "cell_type": "code",
      "source": [
        "# Output: Train and Test (1 objective)\n",
        "y_train.shape, y_test.shape"
      ],
      "metadata": {
        "colab": {
          "base_uri": "https://localhost:8080/"
        },
        "id": "uVYkRu11XdG4",
        "outputId": "b46a2805-0306-4906-a3c3-e3c128970867"
      },
      "execution_count": 4,
      "outputs": [
        {
          "output_type": "execute_result",
          "data": {
            "text/plain": [
              "((1483,), (371,))"
            ]
          },
          "metadata": {},
          "execution_count": 4
        }
      ]
    },
    {
      "cell_type": "code",
      "source": [
        "# Import the SGDClassifier\n",
        "from sklearn.linear_model import SGDClassifier"
      ],
      "metadata": {
        "id": "1F77gNfqVuaT"
      },
      "execution_count": 5,
      "outputs": []
    },
    {
      "cell_type": "code",
      "source": [
        "# Create SGD classifier with default parameters\n",
        "# loss=\"hinge\", penalty=\"l2\", alpha=0.0001...\n",
        "# We only set the random_state to an int to ensure reproducible output\n",
        "clf = SGDClassifier(random_state=5)"
      ],
      "metadata": {
        "id": "okJEVjvNXYxy"
      },
      "execution_count": 6,
      "outputs": []
    },
    {
      "cell_type": "code",
      "source": [
        "# Train the model\n",
        "clf.fit(X_train, y_train)"
      ],
      "metadata": {
        "colab": {
          "base_uri": "https://localhost:8080/"
        },
        "id": "zhXJuf1kYayn",
        "outputId": "8037e5c2-6e56-4dd7-e5bb-995a2a5c74cb"
      },
      "execution_count": 7,
      "outputs": [
        {
          "output_type": "execute_result",
          "data": {
            "text/plain": [
              "SGDClassifier(random_state=5)"
            ]
          },
          "metadata": {},
          "execution_count": 7
        }
      ]
    },
    {
      "cell_type": "code",
      "source": [
        "# Run a sample prediction\n",
        "clf.predict(X_train.loc[[0]])"
      ],
      "metadata": {
        "colab": {
          "base_uri": "https://localhost:8080/"
        },
        "id": "ZG3UL0h8d6gt",
        "outputId": "bb1c6a6e-13d5-4da4-b183-51cf259c8812"
      },
      "execution_count": 8,
      "outputs": [
        {
          "output_type": "execute_result",
          "data": {
            "text/plain": [
              "array([1])"
            ]
          },
          "metadata": {},
          "execution_count": 8
        }
      ]
    },
    {
      "cell_type": "code",
      "source": [
        "# Print the model coefficients (to ensure repetibility)\n",
        "clf.coef_"
      ],
      "metadata": {
        "colab": {
          "base_uri": "https://localhost:8080/"
        },
        "id": "bzt2BzBLmpn2",
        "outputId": "716eeb9c-449f-4299-ec0b-e3a6bcac2712"
      },
      "execution_count": 9,
      "outputs": [
        {
          "output_type": "execute_result",
          "data": {
            "text/plain": [
              "array([[  9975.52089918,  -3395.35471711,   9601.66871617,\n",
              "         -1649.98333582,    740.00436716,   1098.91625389,\n",
              "        -45138.0284077 ,    855.96405135,   1208.66996886,\n",
              "         11378.80746566]])"
            ]
          },
          "metadata": {},
          "execution_count": 9
        }
      ]
    },
    {
      "cell_type": "markdown",
      "source": [
        "#### Evaluate Model (Accuracy)"
      ],
      "metadata": {
        "id": "s-MBrYVetF8v"
      }
    },
    {
      "cell_type": "code",
      "source": [
        "# Import accuracy score (classification score)\n",
        "from sklearn.metrics import accuracy_score"
      ],
      "metadata": {
        "id": "etrLeSWNnOhL"
      },
      "execution_count": 10,
      "outputs": []
    },
    {
      "cell_type": "code",
      "source": [
        "# Predict X_train\n",
        "y_train_pred = clf.predict(X_train)\n",
        "# Predict X_test\n",
        "y_test_pred = clf.predict(X_test)"
      ],
      "metadata": {
        "id": "7rRAVYPinVpA"
      },
      "execution_count": 11,
      "outputs": []
    },
    {
      "cell_type": "code",
      "source": [
        "# Inspect ground truth and predicted values\n",
        "y_train.to_numpy(), y_train_pred"
      ],
      "metadata": {
        "colab": {
          "base_uri": "https://localhost:8080/"
        },
        "id": "mYFH-SO0ot70",
        "outputId": "1154be96-d93a-404d-f50e-e26d89fbaccc"
      },
      "execution_count": 12,
      "outputs": [
        {
          "output_type": "execute_result",
          "data": {
            "text/plain": [
              "(array([0, 0, 0, ..., 1, 0, 0]), array([1, 1, 1, ..., 1, 1, 1]))"
            ]
          },
          "metadata": {},
          "execution_count": 12
        }
      ]
    },
    {
      "cell_type": "code",
      "source": [
        "# Inspect array sizes\n",
        "len(y_train.to_numpy()), len(y_train_pred)"
      ],
      "metadata": {
        "colab": {
          "base_uri": "https://localhost:8080/"
        },
        "id": "I86vj3B1qDU3",
        "outputId": "7ad91041-fc55-4d3a-9fc1-aa4acecb37cc"
      },
      "execution_count": 13,
      "outputs": [
        {
          "output_type": "execute_result",
          "data": {
            "text/plain": [
              "(1483, 1483)"
            ]
          },
          "metadata": {},
          "execution_count": 13
        }
      ]
    },
    {
      "cell_type": "code",
      "source": [
        "# Determine model accuracy (training set)\n",
        "accuracy_score(y_train, y_train_pred)"
      ],
      "metadata": {
        "colab": {
          "base_uri": "https://localhost:8080/"
        },
        "id": "l461XG9oqZeA",
        "outputId": "be6e3d80-4f9f-493b-b80f-d2696ee73d37"
      },
      "execution_count": 14,
      "outputs": [
        {
          "output_type": "execute_result",
          "data": {
            "text/plain": [
              "0.174645987862441"
            ]
          },
          "metadata": {},
          "execution_count": 14
        }
      ]
    },
    {
      "cell_type": "code",
      "source": [
        "# Determine model accuracy (test set)\n",
        "accuracy_score(y_test, y_test_pred)"
      ],
      "metadata": {
        "colab": {
          "base_uri": "https://localhost:8080/"
        },
        "id": "_RLuRnllrv4d",
        "outputId": "0e446739-a744-4137-f59e-56a6d2a53886"
      },
      "execution_count": 15,
      "outputs": [
        {
          "output_type": "execute_result",
          "data": {
            "text/plain": [
              "0.15902964959568733"
            ]
          },
          "metadata": {},
          "execution_count": 15
        }
      ]
    },
    {
      "cell_type": "markdown",
      "source": [
        "#### Evaluate Model (Precission)"
      ],
      "metadata": {
        "id": "KDlrE0WStJn6"
      }
    },
    {
      "cell_type": "code",
      "source": [
        "# Import precission score (tp / (tp + fp))\n",
        "from sklearn.metrics import precision_score"
      ],
      "metadata": {
        "id": "c6yX-Xvmocw1"
      },
      "execution_count": 16,
      "outputs": []
    },
    {
      "cell_type": "code",
      "source": [
        "# Determine model precision (training set) \n",
        "precision_score(y_train, y_train_pred)"
      ],
      "metadata": {
        "colab": {
          "base_uri": "https://localhost:8080/"
        },
        "id": "arFW3GqqogN7",
        "outputId": "fadc01e1-6ce4-433b-e100-1bb43db76bf1"
      },
      "execution_count": 17,
      "outputs": [
        {
          "output_type": "execute_result",
          "data": {
            "text/plain": [
              "0.17016949152542374"
            ]
          },
          "metadata": {},
          "execution_count": 17
        }
      ]
    },
    {
      "cell_type": "code",
      "source": [
        "# Determine model precision (test set) \n",
        "precision_score(y_test, y_test_pred)"
      ],
      "metadata": {
        "colab": {
          "base_uri": "https://localhost:8080/"
        },
        "id": "lCF847oIsT_5",
        "outputId": "62e61955-6269-4c25-afdd-7cc8eb775ca0"
      },
      "execution_count": 18,
      "outputs": [
        {
          "output_type": "execute_result",
          "data": {
            "text/plain": [
              "0.15675675675675677"
            ]
          },
          "metadata": {},
          "execution_count": 18
        }
      ]
    },
    {
      "cell_type": "markdown",
      "source": [
        "#### Evaluate Model (Recall)"
      ],
      "metadata": {
        "id": "pq71alcutOAp"
      }
    },
    {
      "cell_type": "code",
      "source": [
        "# Import recall score (tp / (tp + fn))\n",
        "from sklearn.metrics import recall_score"
      ],
      "metadata": {
        "id": "J6kgAttjtPrJ"
      },
      "execution_count": 19,
      "outputs": []
    },
    {
      "cell_type": "code",
      "source": [
        "# Determine model recall (training set) \n",
        "recall_score(y_train, y_train_pred)"
      ],
      "metadata": {
        "colab": {
          "base_uri": "https://localhost:8080/"
        },
        "id": "Ezk5iBT1tb5f",
        "outputId": "3075a391-71af-4e6b-da2c-8df80ffbfaf4"
      },
      "execution_count": 20,
      "outputs": [
        {
          "output_type": "execute_result",
          "data": {
            "text/plain": [
              "1.0"
            ]
          },
          "metadata": {},
          "execution_count": 20
        }
      ]
    },
    {
      "cell_type": "code",
      "source": [
        "# Determine model recall (test set) \n",
        "recall_score(y_test, y_test_pred)"
      ],
      "metadata": {
        "colab": {
          "base_uri": "https://localhost:8080/"
        },
        "id": "urvew8r7tekB",
        "outputId": "f8cff8b7-358b-4f3e-eacd-1ce85903dfda"
      },
      "execution_count": 21,
      "outputs": [
        {
          "output_type": "execute_result",
          "data": {
            "text/plain": [
              "1.0"
            ]
          },
          "metadata": {},
          "execution_count": 21
        }
      ]
    },
    {
      "cell_type": "markdown",
      "source": [
        "#### Evaluate Model (F1)"
      ],
      "metadata": {
        "id": "oelGaleot5Ck"
      }
    },
    {
      "cell_type": "code",
      "source": [
        "# Import F1 score (harmonic mean between precision and recall)\n",
        "from sklearn.metrics import f1_score"
      ],
      "metadata": {
        "id": "dYuwPRB4t6TB"
      },
      "execution_count": 22,
      "outputs": []
    },
    {
      "cell_type": "code",
      "source": [
        "# Determine model F1 (training set) \n",
        "f1_score(y_train, y_train_pred)"
      ],
      "metadata": {
        "colab": {
          "base_uri": "https://localhost:8080/"
        },
        "id": "KSCV-V9duKr_",
        "outputId": "5b353f2b-aac2-4b9c-c87e-8f3b6bf459cd"
      },
      "execution_count": 23,
      "outputs": [
        {
          "output_type": "execute_result",
          "data": {
            "text/plain": [
              "0.290845886442642"
            ]
          },
          "metadata": {},
          "execution_count": 23
        }
      ]
    },
    {
      "cell_type": "code",
      "source": [
        "# Determine model F1 (test set) \n",
        "f1_score(y_test, y_test_pred)"
      ],
      "metadata": {
        "colab": {
          "base_uri": "https://localhost:8080/"
        },
        "id": "vtokbx9DuM7x",
        "outputId": "a0e479e4-339c-4d17-b0da-a85fe7541c4b"
      },
      "execution_count": 24,
      "outputs": [
        {
          "output_type": "execute_result",
          "data": {
            "text/plain": [
              "0.2710280373831776"
            ]
          },
          "metadata": {},
          "execution_count": 24
        }
      ]
    },
    {
      "cell_type": "markdown",
      "source": [
        "#### Evaluate Model (Conf. Matrix)"
      ],
      "metadata": {
        "id": "5UUtBO6Vuad4"
      }
    },
    {
      "cell_type": "code",
      "source": [
        "# Import confusion matrix\n",
        "from sklearn.metrics import confusion_matrix\n",
        "!wget https://raw.githubusercontent.com/DiploDatos/IntroduccionAprendizajeAutomatico/master/utils.py\n",
        "from utils import plot_confusion_matrix"
      ],
      "metadata": {
        "colab": {
          "base_uri": "https://localhost:8080/"
        },
        "id": "IVAYBldhufQ7",
        "outputId": "287a93a7-5412-429e-8350-997a5ed8bf9f"
      },
      "execution_count": 25,
      "outputs": [
        {
          "output_type": "stream",
          "name": "stdout",
          "text": [
            "--2022-07-21 01:00:53--  https://raw.githubusercontent.com/DiploDatos/IntroduccionAprendizajeAutomatico/master/utils.py\n",
            "Resolving raw.githubusercontent.com (raw.githubusercontent.com)... 185.199.108.133, 185.199.109.133, 185.199.110.133, ...\n",
            "Connecting to raw.githubusercontent.com (raw.githubusercontent.com)|185.199.108.133|:443... connected.\n",
            "HTTP request sent, awaiting response... 200 OK\n",
            "Length: 2010 (2.0K) [text/plain]\n",
            "Saving to: ‘utils.py’\n",
            "\n",
            "utils.py            100%[===================>]   1.96K  --.-KB/s    in 0s      \n",
            "\n",
            "2022-07-21 01:00:54 (28.8 MB/s) - ‘utils.py’ saved [2010/2010]\n",
            "\n"
          ]
        }
      ]
    },
    {
      "cell_type": "code",
      "source": [
        "# Determine model confusion matrix (training set) \n",
        "plot_confusion_matrix(confusion_matrix(y_train, y_train_pred), [\"0\", \"1\"])"
      ],
      "metadata": {
        "colab": {
          "base_uri": "https://localhost:8080/",
          "height": 311
        },
        "id": "MhjE9_ahutNn",
        "outputId": "5ae08e45-1bfd-4cd8-974f-5ffaa3ecf4ed"
      },
      "execution_count": 26,
      "outputs": [
        {
          "output_type": "display_data",
          "data": {
            "text/plain": [
              "<Figure size 432x288 with 2 Axes>"
            ],
            "image/png": "[encoded data removed]"
          },
          "metadata": {
            "needs_background": "light"
          }
        }
      ]
    },
    {
      "cell_type": "code",
      "source": [
        "# Determine model confusion matrix (test set) \n",
        "plot_confusion_matrix(confusion_matrix(y_test, y_test_pred), [\"0\", \"1\"])"
      ],
      "metadata": {
        "colab": {
          "base_uri": "https://localhost:8080/",
          "height": 311
        },
        "id": "aK5Gk8E7uv0i",
        "outputId": "493cb0f5-8068-4826-ae94-2362100540c9"
      },
      "execution_count": 27,
      "outputs": [
        {
          "output_type": "display_data",
          "data": {
            "text/plain": [
              "<Figure size 432x288 with 2 Axes>"
            ],
            "image/png": "[encoded data removed]"
          },
          "metadata": {
            "needs_background": "light"
          }
        }
      ]
    },
    {
      "cell_type": "markdown",
      "source": [
        "#### Conclusion and Remarks\n",
        "<font color='blue'>Esta primer búsqueda resultó en un modelo muy pobre, con accuracy de apenas un 0.17.</font>"
      ],
      "metadata": {
        "id": "9i5yYZPb9RaV"
      }
    },
    {
      "cell_type": "markdown",
      "metadata": {
        "id": "Yvth6UQ24dvc"
      },
      "source": [
        "### Ejercicio 2.2: Ajuste de Hiperparámetros\n",
        "\n",
        "Seleccionar valores para los hiperparámetros principales del SGDClassifier. Como mínimo, probar diferentes funciones de loss, tasas de entrenamiento y tasas de regularización.\n",
        "\n",
        "Para ello, usar grid-search y 5-fold cross-validation sobre el conjunto de entrenamiento para explorar muchas combinaciones posibles de valores.\n",
        "\n",
        "Reportar accuracy promedio y varianza para todas las configuraciones.\n",
        "\n",
        "Para la mejor configuración encontrada, evaluar sobre el conjunto de **entrenamiento** y sobre el conjunto de **evaluación**, reportando:\n",
        "- Accuracy\n",
        "- Precision\n",
        "- Recall\n",
        "- F1\n",
        "- matriz de confusión\n",
        "\n",
        "Documentación:\n",
        "- https://scikit-learn.org/stable/modules/grid_search.html\n",
        "- https://scikit-learn.org/stable/modules/generated/sklearn.model_selection.GridSearchCV.html"
      ]
    },
    {
      "cell_type": "markdown",
      "source": [
        "#### Exhaustive Grid Search"
      ],
      "metadata": {
        "id": "JQJDutrj3F72"
      }
    },
    {
      "cell_type": "code",
      "source": [
        "# Investigate SGDClassifier parameters\n",
        "# SGDClassifier??"
      ],
      "metadata": {
        "id": "kbOC0bjezbq1"
      },
      "execution_count": 28,
      "outputs": []
    },
    {
      "cell_type": "code",
      "source": [
        "# Loss functions:\n",
        "# loss = str -> d='hinge', 'log', 'modified_huber', 'squared_hinge', 'perceptron'\n",
        "\n",
        "# Regularization term multiplier:\n",
        "# alpha = float -> d=0.0001 \n",
        "\n",
        "# Learning rate:\n",
        "# learning_rate = str -> d='optimal', 'constant', 'invscaling',\n",
        "# eta0 = float -> d=0.0 (not used for optimal)"
      ],
      "metadata": {
        "id": "UCjOQCFEznrG"
      },
      "execution_count": 29,
      "outputs": []
    },
    {
      "cell_type": "code",
      "source": [
        "# Prepare parameter grid with loss, alpha, learning rate and eta values\n",
        "# (optimal learning rate was left out as it needs a fixed eta0 = 0.0)\n",
        "param_grid = {\n",
        "    'loss': ['hinge', 'log', 'modified_huber'],\n",
        "    'alpha': [0.001, 0.0001, 0.00001],\n",
        "    'learning_rate': ['constant', 'invscaling'],\n",
        "    'eta0': [0.1, 1.0],\n",
        "}"
      ],
      "metadata": {
        "id": "lnAb5D-41nL2"
      },
      "execution_count": 30,
      "outputs": []
    },
    {
      "cell_type": "code",
      "source": [
        "# Import GridSearchCV\n",
        "from sklearn.model_selection import GridSearchCV\n",
        "from sklearn.model_selection import KFold"
      ],
      "metadata": {
        "id": "JfGBdVMz2Oq5"
      },
      "execution_count": 31,
      "outputs": []
    },
    {
      "cell_type": "code",
      "source": [
        "# Create exhaustive grid search and KFold iterator\n",
        "kf = KFold(n_splits=5, shuffle=True, random_state=0)\n",
        "cv = GridSearchCV(clf, param_grid, scoring='accuracy', cv=kf)"
      ],
      "metadata": {
        "id": "nc45Fpkb2W5v"
      },
      "execution_count": 32,
      "outputs": []
    },
    {
      "cell_type": "code",
      "source": [
        "# Fit the grid search model(s)\n",
        "cv.fit(X_train, y_train)"
      ],
      "metadata": {
        "colab": {
          "base_uri": "https://localhost:8080/"
        },
        "id": "QzfarxrM2oq9",
        "outputId": "a1462f5c-05d7-4dbf-f7c9-1531dc4ef840"
      },
      "execution_count": 33,
      "outputs": [
        {
          "output_type": "execute_result",
          "data": {
            "text/plain": [
              "GridSearchCV(cv=KFold(n_splits=5, random_state=0, shuffle=True),\n",
              "             estimator=SGDClassifier(random_state=5),\n",
              "             param_grid={'alpha': [0.001, 0.0001, 1e-05], 'eta0': [0.1, 1.0],\n",
              "                         'learning_rate': ['constant', 'invscaling'],\n",
              "                         'loss': ['hinge', 'log', 'modified_huber']},\n",
              "             scoring='accuracy')"
            ]
          },
          "metadata": {},
          "execution_count": 33
        }
      ]
    },
    {
      "cell_type": "code",
      "source": [
        "# Obtain the resutls and plot ranked table\n",
        "# Mean and Std. Deviation of the Accuracy is reported for each\n",
        "results = cv.cv_results_\n",
        "params = results['params']\n",
        "mean = results['mean_test_score']\n",
        "std = results['std_test_score']\n",
        "rank = results['rank_test_score']\n",
        "\n",
        "df = pd.DataFrame(results)\n",
        "df[['param_loss', 'param_alpha', 'param_learning_rate', 'param_eta0', \n",
        "    'mean_test_score', 'std_test_score', 'rank_test_score']].sort_values('rank_test_score')\n",
        "# df"
      ],
      "metadata": {
        "colab": {
          "base_uri": "https://localhost:8080/",
          "height": 1000
        },
        "id": "cF9rbVTU4xRS",
        "outputId": "cee609aa-1286-476b-92a2-d5569cf54a0b"
      },
      "execution_count": 34,
      "outputs": [
        {
          "output_type": "execute_result",
          "data": {
            "text/plain": [
              "        param_loss param_alpha param_learning_rate param_eta0  \\\n",
              "17  modified_huber      0.0001          invscaling        0.1   \n",
              "34             log     0.00001          invscaling        1.0   \n",
              "16             log      0.0001          invscaling        0.1   \n",
              "35  modified_huber     0.00001          invscaling        1.0   \n",
              "28             log     0.00001          invscaling        0.1   \n",
              "29  modified_huber     0.00001          invscaling        0.1   \n",
              "21           hinge      0.0001          invscaling        1.0   \n",
              "3            hinge       0.001          invscaling        0.1   \n",
              "24           hinge     0.00001            constant        0.1   \n",
              "19             log      0.0001            constant        1.0   \n",
              "20  modified_huber      0.0001            constant        1.0   \n",
              "1              log       0.001            constant        0.1   \n",
              "2   modified_huber       0.001            constant        0.1   \n",
              "14  modified_huber      0.0001            constant        0.1   \n",
              "31             log     0.00001            constant        1.0   \n",
              "32  modified_huber     0.00001            constant        1.0   \n",
              "13             log      0.0001            constant        0.1   \n",
              "9            hinge       0.001          invscaling        1.0   \n",
              "11  modified_huber       0.001          invscaling        1.0   \n",
              "10             log       0.001          invscaling        1.0   \n",
              "27           hinge     0.00001          invscaling        0.1   \n",
              "6            hinge       0.001            constant        1.0   \n",
              "26  modified_huber     0.00001            constant        0.1   \n",
              "25             log     0.00001            constant        0.1   \n",
              "8   modified_huber       0.001            constant        1.0   \n",
              "7              log       0.001            constant        1.0   \n",
              "0            hinge       0.001            constant        0.1   \n",
              "18           hinge      0.0001            constant        1.0   \n",
              "15           hinge      0.0001          invscaling        0.1   \n",
              "33           hinge     0.00001          invscaling        1.0   \n",
              "30           hinge     0.00001            constant        1.0   \n",
              "12           hinge      0.0001            constant        0.1   \n",
              "22             log      0.0001          invscaling        1.0   \n",
              "5   modified_huber       0.001          invscaling        0.1   \n",
              "23  modified_huber      0.0001          invscaling        1.0   \n",
              "4              log       0.001          invscaling        0.1   \n",
              "\n",
              "    mean_test_score  std_test_score  rank_test_score  \n",
              "17         0.829420        0.016391                1  \n",
              "34         0.829420        0.016391                1  \n",
              "16         0.829420        0.016391                1  \n",
              "35         0.829420        0.016391                1  \n",
              "28         0.829416        0.013040                5  \n",
              "29         0.829416        0.013040                5  \n",
              "21         0.826727        0.019862                7  \n",
              "3          0.826727        0.019862                7  \n",
              "24         0.826049        0.016792                9  \n",
              "19         0.818641        0.028592               10  \n",
              "20         0.818641        0.028592               10  \n",
              "1          0.818641        0.028592               10  \n",
              "2          0.818641        0.028592               10  \n",
              "14         0.727732        0.209315               14  \n",
              "31         0.727732        0.209315               14  \n",
              "32         0.727732        0.209315               14  \n",
              "13         0.727732        0.209315               14  \n",
              "9          0.704170        0.261592               18  \n",
              "11         0.703494        0.261259               19  \n",
              "10         0.703494        0.261259               19  \n",
              "27         0.697659        0.264794               21  \n",
              "6          0.694961        0.263396               22  \n",
              "26         0.693616        0.264554               23  \n",
              "25         0.693616        0.264554               23  \n",
              "8          0.692938        0.264042               25  \n",
              "7          0.692938        0.264042               25  \n",
              "0          0.691592        0.263606               27  \n",
              "18         0.691592        0.263606               27  \n",
              "15         0.688905        0.261591               29  \n",
              "33         0.688905        0.261591               29  \n",
              "30         0.573751        0.317631               31  \n",
              "12         0.573751        0.317631               31  \n",
              "22         0.569711        0.323689               33  \n",
              "5          0.569711        0.323689               33  \n",
              "23         0.569711        0.323689               33  \n",
              "4          0.569711        0.323689               33  "
            ],
            "text/html": [
              "\n",
              "  <div id=\"df-da9ecede-2da8-42f2-9375-bbe8067e7195\">\n",
              "    <div class=\"colab-df-container\">\n",
              "      <div>\n",
              "<style scoped>\n",
              "    .dataframe tbody tr th:only-of-type {\n",
              "        vertical-align: middle;\n",
              "    }\n",
              "\n",
              "    .dataframe tbody tr th {\n",
              "        vertical-align: top;\n",
              "    }\n",
              "\n",
              "    .dataframe thead th {\n",
              "        text-align: right;\n",
              "    }\n",
              "</style>\n",
              "<table border=\"1\" class=\"dataframe\">\n",
              "  <thead>\n",
              "    <tr style=\"text-align: right;\">\n",
              "      <th></th>\n",
              "      <th>param_loss</th>\n",
              "      <th>param_alpha</th>\n",
              "      <th>param_learning_rate</th>\n",
              "      <th>param_eta0</th>\n",
              "      <th>mean_test_score</th>\n",
              "      <th>std_test_score</th>\n",
              "      <th>rank_test_score</th>\n",
              "    </tr>\n",
              "  </thead>\n",
              "  <tbody>\n",
              "    <tr>\n",
              "      <th>17</th>\n",
              "      <td>modified_huber</td>\n",
              "      <td>0.0001</td>\n",
              "      <td>invscaling</td>\n",
              "      <td>0.1</td>\n",
              "      <td>0.829420</td>\n",
              "      <td>0.016391</td>\n",
              "      <td>1</td>\n",
              "    </tr>\n",
              "    <tr>\n",
              "      <th>34</th>\n",
              "      <td>log</td>\n",
              "      <td>0.00001</td>\n",
              "      <td>invscaling</td>\n",
              "      <td>1.0</td>\n",
              "      <td>0.829420</td>\n",
              "      <td>0.016391</td>\n",
              "      <td>1</td>\n",
              "    </tr>\n",
              "    <tr>\n",
              "      <th>16</th>\n",
              "      <td>log</td>\n",
              "      <td>0.0001</td>\n",
              "      <td>invscaling</td>\n",
              "      <td>0.1</td>\n",
              "      <td>0.829420</td>\n",
              "      <td>0.016391</td>\n",
              "      <td>1</td>\n",
              "    </tr>\n",
              "    <tr>\n",
              "      <th>35</th>\n",
              "      <td>modified_huber</td>\n",
              "      <td>0.00001</td>\n",
              "      <td>invscaling</td>\n",
              "      <td>1.0</td>\n",
              "      <td>0.829420</td>\n",
              "      <td>0.016391</td>\n",
              "      <td>1</td>\n",
              "    </tr>\n",
              "    <tr>\n",
              "      <th>28</th>\n",
              "      <td>log</td>\n",
              "      <td>0.00001</td>\n",
              "      <td>invscaling</td>\n",
              "      <td>0.1</td>\n",
              "      <td>0.829416</td>\n",
              "      <td>0.013040</td>\n",
              "      <td>5</td>\n",
              "    </tr>\n",
              "    <tr>\n",
              "      <th>29</th>\n",
              "      <td>modified_huber</td>\n",
              "      <td>0.00001</td>\n",
              "      <td>invscaling</td>\n",
              "      <td>0.1</td>\n",
              "      <td>0.829416</td>\n",
              "      <td>0.013040</td>\n",
              "      <td>5</td>\n",
              "    </tr>\n",
              "    <tr>\n",
              "      <th>21</th>\n",
              "      <td>hinge</td>\n",
              "      <td>0.0001</td>\n",
              "      <td>invscaling</td>\n",
              "      <td>1.0</td>\n",
              "      <td>0.826727</td>\n",
              "      <td>0.019862</td>\n",
              "      <td>7</td>\n",
              "    </tr>\n",
              "    <tr>\n",
              "      <th>3</th>\n",
              "      <td>hinge</td>\n",
              "      <td>0.001</td>\n",
              "      <td>invscaling</td>\n",
              "      <td>0.1</td>\n",
              "      <td>0.826727</td>\n",
              "      <td>0.019862</td>\n",
              "      <td>7</td>\n",
              "    </tr>\n",
              "    <tr>\n",
              "      <th>24</th>\n",
              "      <td>hinge</td>\n",
              "      <td>0.00001</td>\n",
              "      <td>constant</td>\n",
              "      <td>0.1</td>\n",
              "      <td>0.826049</td>\n",
              "      <td>0.016792</td>\n",
              "      <td>9</td>\n",
              "    </tr>\n",
              "    <tr>\n",
              "      <th>19</th>\n",
              "      <td>log</td>\n",
              "      <td>0.0001</td>\n",
              "      <td>constant</td>\n",
              "      <td>1.0</td>\n",
              "      <td>0.818641</td>\n",
              "      <td>0.028592</td>\n",
              "      <td>10</td>\n",
              "    </tr>\n",
              "    <tr>\n",
              "      <th>20</th>\n",
              "      <td>modified_huber</td>\n",
              "      <td>0.0001</td>\n",
              "      <td>constant</td>\n",
              "      <td>1.0</td>\n",
              "      <td>0.818641</td>\n",
              "      <td>0.028592</td>\n",
              "      <td>10</td>\n",
              "    </tr>\n",
              "    <tr>\n",
              "      <th>1</th>\n",
              "      <td>log</td>\n",
              "      <td>0.001</td>\n",
              "      <td>constant</td>\n",
              "      <td>0.1</td>\n",
              "      <td>0.818641</td>\n",
              "      <td>0.028592</td>\n",
              "      <td>10</td>\n",
              "    </tr>\n",
              "    <tr>\n",
              "      <th>2</th>\n",
              "      <td>modified_huber</td>\n",
              "      <td>0.001</td>\n",
              "      <td>constant</td>\n",
              "      <td>0.1</td>\n",
              "      <td>0.818641</td>\n",
              "      <td>0.028592</td>\n",
              "      <td>10</td>\n",
              "    </tr>\n",
              "    <tr>\n",
              "      <th>14</th>\n",
              "      <td>modified_huber</td>\n",
              "      <td>0.0001</td>\n",
              "      <td>constant</td>\n",
              "      <td>0.1</td>\n",
              "      <td>0.727732</td>\n",
              "      <td>0.209315</td>\n",
              "      <td>14</td>\n",
              "    </tr>\n",
              "    <tr>\n",
              "      <th>31</th>\n",
              "      <td>log</td>\n",
              "      <td>0.00001</td>\n",
              "      <td>constant</td>\n",
              "      <td>1.0</td>\n",
              "      <td>0.727732</td>\n",
              "      <td>0.209315</td>\n",
              "      <td>14</td>\n",
              "    </tr>\n",
              "    <tr>\n",
              "      <th>32</th>\n",
              "      <td>modified_huber</td>\n",
              "      <td>0.00001</td>\n",
              "      <td>constant</td>\n",
              "      <td>1.0</td>\n",
              "      <td>0.727732</td>\n",
              "      <td>0.209315</td>\n",
              "      <td>14</td>\n",
              "    </tr>\n",
              "    <tr>\n",
              "      <th>13</th>\n",
              "      <td>log</td>\n",
              "      <td>0.0001</td>\n",
              "      <td>constant</td>\n",
              "      <td>0.1</td>\n",
              "      <td>0.727732</td>\n",
              "      <td>0.209315</td>\n",
              "      <td>14</td>\n",
              "    </tr>\n",
              "    <tr>\n",
              "      <th>9</th>\n",
              "      <td>hinge</td>\n",
              "      <td>0.001</td>\n",
              "      <td>invscaling</td>\n",
              "      <td>1.0</td>\n",
              "      <td>0.704170</td>\n",
              "      <td>0.261592</td>\n",
              "      <td>18</td>\n",
              "    </tr>\n",
              "    <tr>\n",
              "      <th>11</th>\n",
              "      <td>modified_huber</td>\n",
              "      <td>0.001</td>\n",
              "      <td>invscaling</td>\n",
              "      <td>1.0</td>\n",
              "      <td>0.703494</td>\n",
              "      <td>0.261259</td>\n",
              "      <td>19</td>\n",
              "    </tr>\n",
              "    <tr>\n",
              "      <th>10</th>\n",
              "      <td>log</td>\n",
              "      <td>0.001</td>\n",
              "      <td>invscaling</td>\n",
              "      <td>1.0</td>\n",
              "      <td>0.703494</td>\n",
              "      <td>0.261259</td>\n",
              "      <td>19</td>\n",
              "    </tr>\n",
              "    <tr>\n",
              "      <th>27</th>\n",
              "      <td>hinge</td>\n",
              "      <td>0.00001</td>\n",
              "      <td>invscaling</td>\n",
              "      <td>0.1</td>\n",
              "      <td>0.697659</td>\n",
              "      <td>0.264794</td>\n",
              "      <td>21</td>\n",
              "    </tr>\n",
              "    <tr>\n",
              "      <th>6</th>\n",
              "      <td>hinge</td>\n",
              "      <td>0.001</td>\n",
              "      <td>constant</td>\n",
              "      <td>1.0</td>\n",
              "      <td>0.694961</td>\n",
              "      <td>0.263396</td>\n",
              "      <td>22</td>\n",
              "    </tr>\n",
              "    <tr>\n",
              "      <th>26</th>\n",
              "      <td>modified_huber</td>\n",
              "      <td>0.00001</td>\n",
              "      <td>constant</td>\n",
              "      <td>0.1</td>\n",
              "      <td>0.693616</td>\n",
              "      <td>0.264554</td>\n",
              "      <td>23</td>\n",
              "    </tr>\n",
              "    <tr>\n",
              "      <th>25</th>\n",
              "      <td>log</td>\n",
              "      <td>0.00001</td>\n",
              "      <td>constant</td>\n",
              "      <td>0.1</td>\n",
              "      <td>0.693616</td>\n",
              "      <td>0.264554</td>\n",
              "      <td>23</td>\n",
              "    </tr>\n",
              "    <tr>\n",
              "      <th>8</th>\n",
              "      <td>modified_huber</td>\n",
              "      <td>0.001</td>\n",
              "      <td>constant</td>\n",
              "      <td>1.0</td>\n",
              "      <td>0.692938</td>\n",
              "      <td>0.264042</td>\n",
              "      <td>25</td>\n",
              "    </tr>\n",
              "    <tr>\n",
              "      <th>7</th>\n",
              "      <td>log</td>\n",
              "      <td>0.001</td>\n",
              "      <td>constant</td>\n",
              "      <td>1.0</td>\n",
              "      <td>0.692938</td>\n",
              "      <td>0.264042</td>\n",
              "      <td>25</td>\n",
              "    </tr>\n",
              "    <tr>\n",
              "      <th>0</th>\n",
              "      <td>hinge</td>\n",
              "      <td>0.001</td>\n",
              "      <td>constant</td>\n",
              "      <td>0.1</td>\n",
              "      <td>0.691592</td>\n",
              "      <td>0.263606</td>\n",
              "      <td>27</td>\n",
              "    </tr>\n",
              "    <tr>\n",
              "      <th>18</th>\n",
              "      <td>hinge</td>\n",
              "      <td>0.0001</td>\n",
              "      <td>constant</td>\n",
              "      <td>1.0</td>\n",
              "      <td>0.691592</td>\n",
              "      <td>0.263606</td>\n",
              "      <td>27</td>\n",
              "    </tr>\n",
              "    <tr>\n",
              "      <th>15</th>\n",
              "      <td>hinge</td>\n",
              "      <td>0.0001</td>\n",
              "      <td>invscaling</td>\n",
              "      <td>0.1</td>\n",
              "      <td>0.688905</td>\n",
              "      <td>0.261591</td>\n",
              "      <td>29</td>\n",
              "    </tr>\n",
              "    <tr>\n",
              "      <th>33</th>\n",
              "      <td>hinge</td>\n",
              "      <td>0.00001</td>\n",
              "      <td>invscaling</td>\n",
              "      <td>1.0</td>\n",
              "      <td>0.688905</td>\n",
              "      <td>0.261591</td>\n",
              "      <td>29</td>\n",
              "    </tr>\n",
              "    <tr>\n",
              "      <th>30</th>\n",
              "      <td>hinge</td>\n",
              "      <td>0.00001</td>\n",
              "      <td>constant</td>\n",
              "      <td>1.0</td>\n",
              "      <td>0.573751</td>\n",
              "      <td>0.317631</td>\n",
              "      <td>31</td>\n",
              "    </tr>\n",
              "    <tr>\n",
              "      <th>12</th>\n",
              "      <td>hinge</td>\n",
              "      <td>0.0001</td>\n",
              "      <td>constant</td>\n",
              "      <td>0.1</td>\n",
              "      <td>0.573751</td>\n",
              "      <td>0.317631</td>\n",
              "      <td>31</td>\n",
              "    </tr>\n",
              "    <tr>\n",
              "      <th>22</th>\n",
              "      <td>log</td>\n",
              "      <td>0.0001</td>\n",
              "      <td>invscaling</td>\n",
              "      <td>1.0</td>\n",
              "      <td>0.569711</td>\n",
              "      <td>0.323689</td>\n",
              "      <td>33</td>\n",
              "    </tr>\n",
              "    <tr>\n",
              "      <th>5</th>\n",
              "      <td>modified_huber</td>\n",
              "      <td>0.001</td>\n",
              "      <td>invscaling</td>\n",
              "      <td>0.1</td>\n",
              "      <td>0.569711</td>\n",
              "      <td>0.323689</td>\n",
              "      <td>33</td>\n",
              "    </tr>\n",
              "    <tr>\n",
              "      <th>23</th>\n",
              "      <td>modified_huber</td>\n",
              "      <td>0.0001</td>\n",
              "      <td>invscaling</td>\n",
              "      <td>1.0</td>\n",
              "      <td>0.569711</td>\n",
              "      <td>0.323689</td>\n",
              "      <td>33</td>\n",
              "    </tr>\n",
              "    <tr>\n",
              "      <th>4</th>\n",
              "      <td>log</td>\n",
              "      <td>0.001</td>\n",
              "      <td>invscaling</td>\n",
              "      <td>0.1</td>\n",
              "      <td>0.569711</td>\n",
              "      <td>0.323689</td>\n",
              "      <td>33</td>\n",
              "    </tr>\n",
              "  </tbody>\n",
              "</table>\n",
              "</div>\n",
              "      <button class=\"colab-df-convert\" onclick=\"convertToInteractive('df-da9ecede-2da8-42f2-9375-bbe8067e7195')\"\n",
              "              title=\"Convert this dataframe to an interactive table.\"\n",
              "              style=\"display:none;\">\n",
              "        \n",
              "  <svg xmlns=\"http://www.w3.org/2000/svg\" height=\"24px\"viewBox=\"0 0 24 24\"\n",
              "       width=\"24px\">\n",
              "    <path d=\"M0 0h24v24H0V0z\" fill=\"none\"/>\n",
              "    <path d=\"M18.56 5.44l.94 2.06.94-2.06 2.06-.94-2.06-.94-.94-2.06-.94 2.06-2.06.94zm-11 1L8.5 8.5l.94-2.06 2.06-.94-2.06-.94L8.5 2.5l-.94 2.06-2.06.94zm10 10l.94 2.06.94-2.06 2.06-.94-2.06-.94-.94-2.06-.94 2.06-2.06.94z\"/><path d=\"M17.41 7.96l-1.37-1.37c-.4-.4-.92-.59-1.43-.59-.52 0-1.04.2-1.43.59L10.3 9.45l-7.72 7.72c-.78.78-.78 2.05 0 2.83L4 21.41c.39.39.9.59 1.41.59.51 0 1.02-.2 1.41-.59l7.78-7.78 2.81-2.81c.8-.78.8-2.07 0-2.86zM5.41 20L4 18.59l7.72-7.72 1.47 1.35L5.41 20z\"/>\n",
              "  </svg>\n",
              "      </button>\n",
              "      \n",
              "  <style>\n",
              "    .colab-df-container {\n",
              "      display:flex;\n",
              "      flex-wrap:wrap;\n",
              "      gap: 12px;\n",
              "    }\n",
              "\n",
              "    .colab-df-convert {\n",
              "      background-color: #E8F0FE;\n",
              "      border: none;\n",
              "      border-radius: 50%;\n",
              "      cursor: pointer;\n",
              "      display: none;\n",
              "      fill: #1967D2;\n",
              "      height: 32px;\n",
              "      padding: 0 0 0 0;\n",
              "      width: 32px;\n",
              "    }\n",
              "\n",
              "    .colab-df-convert:hover {\n",
              "      background-color: #E2EBFA;\n",
              "      box-shadow: 0px 1px 2px rgba(60, 64, 67, 0.3), 0px 1px 3px 1px rgba(60, 64, 67, 0.15);\n",
              "      fill: #174EA6;\n",
              "    }\n",
              "\n",
              "    [theme=dark] .colab-df-convert {\n",
              "      background-color: #3B4455;\n",
              "      fill: #D2E3FC;\n",
              "    }\n",
              "\n",
              "    [theme=dark] .colab-df-convert:hover {\n",
              "      background-color: #434B5C;\n",
              "      box-shadow: 0px 1px 3px 1px rgba(0, 0, 0, 0.15);\n",
              "      filter: drop-shadow(0px 1px 2px rgba(0, 0, 0, 0.3));\n",
              "      fill: #FFFFFF;\n",
              "    }\n",
              "  </style>\n",
              "\n",
              "      <script>\n",
              "        const buttonEl =\n",
              "          document.querySelector('#df-da9ecede-2da8-42f2-9375-bbe8067e7195 button.colab-df-convert');\n",
              "        buttonEl.style.display =\n",
              "          google.colab.kernel.accessAllowed ? 'block' : 'none';\n",
              "\n",
              "        async function convertToInteractive(key) {\n",
              "          const element = document.querySelector('#df-da9ecede-2da8-42f2-9375-bbe8067e7195');\n",
              "          const dataTable =\n",
              "            await google.colab.kernel.invokeFunction('convertToInteractive',\n",
              "                                                     [key], {});\n",
              "          if (!dataTable) return;\n",
              "\n",
              "          const docLinkHtml = 'Like what you see? Visit the ' +\n",
              "            '<a target=\"_blank\" href=https://colab.research.google.com/notebooks/data_table.ipynb>data table notebook</a>'\n",
              "            + ' to learn more about interactive tables.';\n",
              "          element.innerHTML = '';\n",
              "          dataTable['output_type'] = 'display_data';\n",
              "          await google.colab.output.renderOutput(dataTable, element);\n",
              "          const docLink = document.createElement('div');\n",
              "          docLink.innerHTML = docLinkHtml;\n",
              "          element.appendChild(docLink);\n",
              "        }\n",
              "      </script>\n",
              "    </div>\n",
              "  </div>\n",
              "  "
            ]
          },
          "metadata": {},
          "execution_count": 34
        }
      ]
    },
    {
      "cell_type": "code",
      "source": [
        "cv_best = cv.best_estimator_"
      ],
      "metadata": {
        "id": "XDciMQk68Gfz"
      },
      "execution_count": 35,
      "outputs": []
    },
    {
      "cell_type": "code",
      "source": [
        "cv.best_params_"
      ],
      "metadata": {
        "colab": {
          "base_uri": "https://localhost:8080/"
        },
        "id": "oiZrDC-M8RwL",
        "outputId": "a5206753-00cb-49e2-cad6-b472c1c52129"
      },
      "execution_count": 36,
      "outputs": [
        {
          "output_type": "execute_result",
          "data": {
            "text/plain": [
              "{'alpha': 0.0001, 'eta0': 0.1, 'learning_rate': 'invscaling', 'loss': 'log'}"
            ]
          },
          "metadata": {},
          "execution_count": 36
        }
      ]
    },
    {
      "cell_type": "markdown",
      "source": [
        "#### Conclusion and Remarks\n",
        "<font color='blue'>La evaluación exhaustiva de la grilla nos permitió encontrar un set de parámetros de entrenamiento que nos entrega una precisión de 0.83, comparada con la 0.17 encontrada en el primer intento.</font>"
      ],
      "metadata": {
        "id": "23jK9Hix8bLX"
      }
    },
    {
      "cell_type": "markdown",
      "metadata": {
        "id": "Shg5xAkc4dvc"
      },
      "source": [
        "## Ejercicio 3: Árboles de Decisión\n",
        "\n",
        "En este ejercicio se entrenarán árboles de decisión para predecir la variable objetivo.\n",
        "\n",
        "Para ello, deberán utilizar la clase DecisionTreeClassifier de scikit-learn.\n",
        "\n",
        "Documentación:\n",
        "- https://scikit-learn.org/stable/modules/tree.html\n",
        "  - https://scikit-learn.org/stable/modules/tree.html#tips-on-practical-use\n",
        "- https://scikit-learn.org/stable/modules/generated/sklearn.tree.DecisionTreeClassifier.html\n",
        "- https://scikit-learn.org/stable/auto_examples/tree/plot_unveil_tree_structure.html"
      ]
    },
    {
      "cell_type": "markdown",
      "metadata": {
        "id": "uq1a_GGt4dvc"
      },
      "source": [
        "### Ejercicio 3.1: DecisionTreeClassifier con hiperparámetros por defecto\n",
        "\n",
        "Entrenar y evaluar el clasificador DecisionTreeClassifier usando los valores por omisión de scikit-learn para todos los parámetros. Únicamente **fijar la semilla aleatoria** para hacer repetible el experimento.\n",
        "\n",
        "Evaluar sobre el conjunto de **entrenamiento** y sobre el conjunto de **evaluación**, reportando:\n",
        "- Accuracy\n",
        "- Precision\n",
        "- Recall\n",
        "- F1\n",
        "- matriz de confusión\n"
      ]
    },
    {
      "cell_type": "code",
      "source": [
        "from sklearn.tree import DecisionTreeClassifier\n",
        "clf = DecisionTreeClassifier(random_state=5)#max_depth=2, criterion='entropy', random_state=0)\n",
        "clf.fit(X_train, y_train)"
      ],
      "metadata": {
        "colab": {
          "base_uri": "https://localhost:8080/"
        },
        "id": "L1dHcRzzMGPQ",
        "outputId": "cf04fa1c-950c-4cfe-bf5a-9479baa372d9"
      },
      "execution_count": 37,
      "outputs": [
        {
          "output_type": "execute_result",
          "data": {
            "text/plain": [
              "DecisionTreeClassifier(random_state=5)"
            ]
          },
          "metadata": {},
          "execution_count": 37
        }
      ]
    },
    {
      "cell_type": "code",
      "source": [
        "from sklearn.tree import plot_tree\n",
        "\n",
        "plot_tree(clf,filled=True);"
      ],
      "metadata": {
        "colab": {
          "base_uri": "https://localhost:8080/",
          "height": 248
        },
        "id": "pf1sIkfhMY4u",
        "outputId": "53eeb9da-03fb-403f-eff3-b4418686aa15"
      },
      "execution_count": 38,
      "outputs": [
        {
          "output_type": "display_data",
          "data": {
            "text/plain": [
              "<Figure size 432x288 with 1 Axes>"
            ],
            "image/png": "[encoded data removed]"
          },
          "metadata": {
            "needs_background": "light"
          }
        }
      ]
    },
    {
      "cell_type": "code",
      "source": [
        "y_train_pred = clf.predict(X_train)\n",
        "y_test_pred = clf.predict(X_test)"
      ],
      "metadata": {
        "id": "JuNbYq5CMMK7"
      },
      "execution_count": 39,
      "outputs": []
    },
    {
      "cell_type": "code",
      "source": [
        "from sklearn.metrics import accuracy_score, precision_score, recall_score, f1_score, confusion_matrix\n",
        "\n",
        "train_acc = accuracy_score(y_train, y_train_pred)\n",
        "test_acc = accuracy_score(y_test, y_test_pred)\n",
        "train_prec = precision_score(y_train, y_train_pred)\n",
        "test_prec = precision_score(y_test, y_test_pred)\n",
        "train_rec = recall_score(y_train, y_train_pred)\n",
        "test_rec = recall_score(y_test, y_test_pred)\n",
        "train_f1 = f1_score(y_train, y_train_pred)\n",
        "test_f1 = f1_score(y_test, y_test_pred)\n",
        "print(f'Train accuracy: {train_acc:0.2}')\n",
        "print(f'Test accuracy: {test_acc:0.2}')\n",
        "print(f'Train precision: {train_prec:0.2}')\n",
        "print(f'Test precision: {test_prec:0.2}')\n",
        "print(f'Train recall: {train_rec:0.2}')\n",
        "print(f'Test recall: {test_rec:0.2}')\n",
        "print(f'Train f1: {train_f1:0.2}')\n",
        "print(f'Test f1: {test_f1:0.2}')"
      ],
      "metadata": {
        "colab": {
          "base_uri": "https://localhost:8080/"
        },
        "id": "SM4oqmMRMQ6V",
        "outputId": "b2729c3a-1e0c-4deb-8b03-ba19f9119153"
      },
      "execution_count": 40,
      "outputs": [
        {
          "output_type": "stream",
          "name": "stdout",
          "text": [
            "Train accuracy: 1.0\n",
            "Test accuracy: 0.89\n",
            "Train precision: 1.0\n",
            "Test precision: 0.65\n",
            "Train recall: 1.0\n",
            "Test recall: 0.62\n",
            "Train f1: 1.0\n",
            "Test f1: 0.64\n"
          ]
        }
      ]
    },
    {
      "cell_type": "code",
      "source": [
        "plot_confusion_matrix(confusion_matrix(y_train, y_train_pred), [\"0\",\"1\"])"
      ],
      "metadata": {
        "colab": {
          "base_uri": "https://localhost:8080/",
          "height": 311
        },
        "id": "Nw_bs5loMW7d",
        "outputId": "14588099-ee0f-41c2-eed4-17222960c3ac"
      },
      "execution_count": 41,
      "outputs": [
        {
          "output_type": "display_data",
          "data": {
            "text/plain": [
              "<Figure size 432x288 with 2 Axes>"
            ],
            "image/png": "[encoded data removed]"
          },
          "metadata": {
            "needs_background": "light"
          }
        }
      ]
    },
    {
      "cell_type": "code",
      "source": [
        "plot_confusion_matrix(confusion_matrix(y_test, y_test_pred), [\"0\",\"1\"])"
      ],
      "metadata": {
        "colab": {
          "base_uri": "https://localhost:8080/",
          "height": 311
        },
        "id": "A2Uk05vg58_-",
        "outputId": "e8738c3e-7d65-4fea-8094-760cddefc64c"
      },
      "execution_count": 42,
      "outputs": [
        {
          "output_type": "display_data",
          "data": {
            "text/plain": [
              "<Figure size 432x288 with 2 Axes>"
            ],
            "image/png": "[encoded data removed]"
          },
          "metadata": {
            "needs_background": "light"
          }
        }
      ]
    },
    {
      "cell_type": "code",
      "source": [
        "#def probs(y):\n",
        "#    _, counts = np.unique(y, return_counts=True)\n",
        "#    probs = counts / counts.sum()\n",
        "#    return probs\n",
        "\n",
        "#def entropy(y):\n",
        "#    p = probs(y)\n",
        "#    return - np.sum(p * np.log2(p))\n",
        "\n",
        "#entropy(y_train)"
      ],
      "metadata": {
        "id": "ol91fPrqMcDV"
      },
      "execution_count": 43,
      "outputs": []
    },
    {
      "cell_type": "markdown",
      "metadata": {
        "id": "8KICzkP14dvd"
      },
      "source": [
        "### Ejercicio 3.2: Ajuste de Hiperparámetros\n",
        "\n",
        "Seleccionar valores para los hiperparámetros principales del DecisionTreeClassifier. Como mínimo, probar diferentes criterios de partición (criterion), profundidad máxima del árbol (max_depth), y cantidad mínima de samples por hoja (min_samples_leaf).\n",
        "\n",
        "Para ello, usar grid-search y 5-fold cross-validation sobre el conjunto de entrenamiento para explorar muchas combinaciones posibles de valores.\n",
        "\n",
        "Reportar accuracy promedio y varianza para todas las configuraciones.\n",
        "\n",
        "Para la mejor configuración encontrada, evaluar sobre el conjunto de **entrenamiento** y sobre el conjunto de **evaluación**, reportando:\n",
        "- Accuracy\n",
        "- Precision\n",
        "- Recall\n",
        "- F1\n",
        "- matriz de confusión\n",
        "\n",
        "\n",
        "Documentación:\n",
        "- https://scikit-learn.org/stable/modules/grid_search.html\n",
        "- https://scikit-learn.org/stable/modules/generated/sklearn.model_selection.GridSearchCV.html"
      ]
    },
    {
      "cell_type": "markdown",
      "source": [
        "####Exhaustive Grid Search"
      ],
      "metadata": {
        "id": "qF_FURUwGG2e"
      }
    },
    {
      "cell_type": "code",
      "source": [
        "# Prepare parameter grid with loss, alpha, learning rate and eta values\n",
        "# (optimal learning rate was left out as it needs a fixed eta0 = 0.0)\n",
        "param_grid = {\n",
        "  \"criterion\": [\"gini\", \"entropy\"], #\"log_loss\"],\n",
        "  \"max_depth\": [2,5, 10, 15,None],\n",
        "  \"min_samples_leaf\": [1,5,10],\n",
        "}"
      ],
      "metadata": {
        "id": "fFFD26nYApdd"
      },
      "execution_count": 44,
      "outputs": []
    },
    {
      "cell_type": "code",
      "source": [
        "# Import GridSearchCV\n",
        "from sklearn.model_selection import GridSearchCV"
      ],
      "metadata": {
        "id": "Zvd_7ZMpAvoV"
      },
      "execution_count": 45,
      "outputs": []
    },
    {
      "cell_type": "code",
      "source": [
        "from sklearn.model_selection import KFold\n",
        "kf = KFold(n_splits=5, shuffle=True, random_state=0)"
      ],
      "metadata": {
        "id": "KyXy10OtgpxS"
      },
      "execution_count": 46,
      "outputs": []
    },
    {
      "cell_type": "code",
      "source": [
        "# Create exhaustive grid search\n",
        "cv = GridSearchCV(clf, param_grid, scoring='accuracy', cv=kf)"
      ],
      "metadata": {
        "id": "6iAl15SnAy2P"
      },
      "execution_count": 47,
      "outputs": []
    },
    {
      "cell_type": "code",
      "source": [
        "# Fit the grid search model(s)\n",
        "cv.fit(X_train, y_train)"
      ],
      "metadata": {
        "colab": {
          "base_uri": "https://localhost:8080/"
        },
        "id": "jT7opQUGA2r0",
        "outputId": "9b116e00-a8e1-429a-e6a7-415b05990f05"
      },
      "execution_count": 48,
      "outputs": [
        {
          "output_type": "execute_result",
          "data": {
            "text/plain": [
              "GridSearchCV(cv=KFold(n_splits=5, random_state=0, shuffle=True),\n",
              "             estimator=DecisionTreeClassifier(random_state=5),\n",
              "             param_grid={'criterion': ['gini', 'entropy'],\n",
              "                         'max_depth': [2, 5, 10, 15, None],\n",
              "                         'min_samples_leaf': [1, 5, 10]},\n",
              "             scoring='accuracy')"
            ]
          },
          "metadata": {},
          "execution_count": 48
        }
      ]
    },
    {
      "cell_type": "code",
      "source": [
        "# Obtain the resutls and plot ranked table\n",
        "# Mean and Std. Deviation of the Accuracy is reported for each\n",
        "results = cv.cv_results_\n",
        "params = results['params']\n",
        "mean = results['mean_test_score']\n",
        "std = results['std_test_score']\n",
        "rank = results['rank_test_score']\n",
        "\n",
        "df = pd.DataFrame(results)\n",
        "df[['param_criterion', 'param_max_depth', 'param_min_samples_leaf', 'mean_test_score', 'std_test_score', 'rank_test_score']].sort_values('rank_test_score')\n",
        "# df"
      ],
      "metadata": {
        "colab": {
          "base_uri": "https://localhost:8080/",
          "height": 990
        },
        "id": "sB37LfzqA8c1",
        "outputId": "6df991a2-f9d1-4d75-a5ff-7feae1c1a58d"
      },
      "execution_count": 49,
      "outputs": [
        {
          "output_type": "execute_result",
          "data": {
            "text/plain": [
              "   param_criterion param_max_depth param_min_samples_leaf  mean_test_score  \\\n",
              "6             gini              10                      1         0.886719   \n",
              "20         entropy               5                     10         0.883340   \n",
              "21         entropy              10                      1         0.882646   \n",
              "5             gini               5                     10         0.882005   \n",
              "3             gini               5                      1         0.878631   \n",
              "18         entropy               5                      1         0.878624   \n",
              "19         entropy               5                      5         0.876611   \n",
              "8             gini              10                     10         0.876608   \n",
              "11            gini              15                     10         0.875933   \n",
              "9             gini              15                      1         0.874586   \n",
              "4             gini               5                      5         0.873917   \n",
              "14            gini            None                     10         0.873913   \n",
              "7             gini              10                      5         0.873237   \n",
              "12            gini            None                      1         0.873235   \n",
              "23         entropy              10                     10         0.869861   \n",
              "27         entropy            None                      1         0.869169   \n",
              "26         entropy              15                     10         0.868514   \n",
              "29         entropy            None                     10         0.868514   \n",
              "24         entropy              15                      1         0.868496   \n",
              "22         entropy              10                      5         0.867151   \n",
              "13            gini            None                      5         0.866503   \n",
              "2             gini               2                     10         0.865811   \n",
              "28         entropy            None                      5         0.865142   \n",
              "0             gini               2                      1         0.865138   \n",
              "17         entropy               2                     10         0.865136   \n",
              "15         entropy               2                      1         0.864462   \n",
              "25         entropy              15                      5         0.863791   \n",
              "10            gini              15                      5         0.863131   \n",
              "1             gini               2                      5         0.861771   \n",
              "16         entropy               2                      5         0.861769   \n",
              "\n",
              "    std_test_score  rank_test_score  \n",
              "6         0.019459                1  \n",
              "20        0.007336                2  \n",
              "21        0.016060                3  \n",
              "5         0.010577                4  \n",
              "3         0.004597                5  \n",
              "18        0.003023                6  \n",
              "19        0.010018                7  \n",
              "8         0.008041                8  \n",
              "11        0.010677                9  \n",
              "9         0.017817               10  \n",
              "4         0.009982               11  \n",
              "14        0.008830               12  \n",
              "7         0.014949               13  \n",
              "12        0.018978               14  \n",
              "23        0.010757               15  \n",
              "27        0.015122               16  \n",
              "26        0.012744               17  \n",
              "29        0.012744               17  \n",
              "24        0.012757               19  \n",
              "22        0.014630               20  \n",
              "13        0.012551               21  \n",
              "2         0.003968               22  \n",
              "28        0.007301               23  \n",
              "0         0.004268               24  \n",
              "17        0.003779               25  \n",
              "15        0.003981               26  \n",
              "25        0.007833               27  \n",
              "10        0.014083               28  \n",
              "1         0.007299               29  \n",
              "16        0.007641               30  "
            ],
            "text/html": [
              "\n",
              "  <div id=\"df-e0cfcd6e-b78f-42bf-9bae-b827c58f1100\">\n",
              "    <div class=\"colab-df-container\">\n",
              "      <div>\n",
              "<style scoped>\n",
              "    .dataframe tbody tr th:only-of-type {\n",
              "        vertical-align: middle;\n",
              "    }\n",
              "\n",
              "    .dataframe tbody tr th {\n",
              "        vertical-align: top;\n",
              "    }\n",
              "\n",
              "    .dataframe thead th {\n",
              "        text-align: right;\n",
              "    }\n",
              "</style>\n",
              "<table border=\"1\" class=\"dataframe\">\n",
              "  <thead>\n",
              "    <tr style=\"text-align: right;\">\n",
              "      <th></th>\n",
              "      <th>param_criterion</th>\n",
              "      <th>param_max_depth</th>\n",
              "      <th>param_min_samples_leaf</th>\n",
              "      <th>mean_test_score</th>\n",
              "      <th>std_test_score</th>\n",
              "      <th>rank_test_score</th>\n",
              "    </tr>\n",
              "  </thead>\n",
              "  <tbody>\n",
              "    <tr>\n",
              "      <th>6</th>\n",
              "      <td>gini</td>\n",
              "      <td>10</td>\n",
              "      <td>1</td>\n",
              "      <td>0.886719</td>\n",
              "      <td>0.019459</td>\n",
              "      <td>1</td>\n",
              "    </tr>\n",
              "    <tr>\n",
              "      <th>20</th>\n",
              "      <td>entropy</td>\n",
              "      <td>5</td>\n",
              "      <td>10</td>\n",
              "      <td>0.883340</td>\n",
              "      <td>0.007336</td>\n",
              "      <td>2</td>\n",
              "    </tr>\n",
              "    <tr>\n",
              "      <th>21</th>\n",
              "      <td>entropy</td>\n",
              "      <td>10</td>\n",
              "      <td>1</td>\n",
              "      <td>0.882646</td>\n",
              "      <td>0.016060</td>\n",
              "      <td>3</td>\n",
              "    </tr>\n",
              "    <tr>\n",
              "      <th>5</th>\n",
              "      <td>gini</td>\n",
              "      <td>5</td>\n",
              "      <td>10</td>\n",
              "      <td>0.882005</td>\n",
              "      <td>0.010577</td>\n",
              "      <td>4</td>\n",
              "    </tr>\n",
              "    <tr>\n",
              "      <th>3</th>\n",
              "      <td>gini</td>\n",
              "      <td>5</td>\n",
              "      <td>1</td>\n",
              "      <td>0.878631</td>\n",
              "      <td>0.004597</td>\n",
              "      <td>5</td>\n",
              "    </tr>\n",
              "    <tr>\n",
              "      <th>18</th>\n",
              "      <td>entropy</td>\n",
              "      <td>5</td>\n",
              "      <td>1</td>\n",
              "      <td>0.878624</td>\n",
              "      <td>0.003023</td>\n",
              "      <td>6</td>\n",
              "    </tr>\n",
              "    <tr>\n",
              "      <th>19</th>\n",
              "      <td>entropy</td>\n",
              "      <td>5</td>\n",
              "      <td>5</td>\n",
              "      <td>0.876611</td>\n",
              "      <td>0.010018</td>\n",
              "      <td>7</td>\n",
              "    </tr>\n",
              "    <tr>\n",
              "      <th>8</th>\n",
              "      <td>gini</td>\n",
              "      <td>10</td>\n",
              "      <td>10</td>\n",
              "      <td>0.876608</td>\n",
              "      <td>0.008041</td>\n",
              "      <td>8</td>\n",
              "    </tr>\n",
              "    <tr>\n",
              "      <th>11</th>\n",
              "      <td>gini</td>\n",
              "      <td>15</td>\n",
              "      <td>10</td>\n",
              "      <td>0.875933</td>\n",
              "      <td>0.010677</td>\n",
              "      <td>9</td>\n",
              "    </tr>\n",
              "    <tr>\n",
              "      <th>9</th>\n",
              "      <td>gini</td>\n",
              "      <td>15</td>\n",
              "      <td>1</td>\n",
              "      <td>0.874586</td>\n",
              "      <td>0.017817</td>\n",
              "      <td>10</td>\n",
              "    </tr>\n",
              "    <tr>\n",
              "      <th>4</th>\n",
              "      <td>gini</td>\n",
              "      <td>5</td>\n",
              "      <td>5</td>\n",
              "      <td>0.873917</td>\n",
              "      <td>0.009982</td>\n",
              "      <td>11</td>\n",
              "    </tr>\n",
              "    <tr>\n",
              "      <th>14</th>\n",
              "      <td>gini</td>\n",
              "      <td>None</td>\n",
              "      <td>10</td>\n",
              "      <td>0.873913</td>\n",
              "      <td>0.008830</td>\n",
              "      <td>12</td>\n",
              "    </tr>\n",
              "    <tr>\n",
              "      <th>7</th>\n",
              "      <td>gini</td>\n",
              "      <td>10</td>\n",
              "      <td>5</td>\n",
              "      <td>0.873237</td>\n",
              "      <td>0.014949</td>\n",
              "      <td>13</td>\n",
              "    </tr>\n",
              "    <tr>\n",
              "      <th>12</th>\n",
              "      <td>gini</td>\n",
              "      <td>None</td>\n",
              "      <td>1</td>\n",
              "      <td>0.873235</td>\n",
              "      <td>0.018978</td>\n",
              "      <td>14</td>\n",
              "    </tr>\n",
              "    <tr>\n",
              "      <th>23</th>\n",
              "      <td>entropy</td>\n",
              "      <td>10</td>\n",
              "      <td>10</td>\n",
              "      <td>0.869861</td>\n",
              "      <td>0.010757</td>\n",
              "      <td>15</td>\n",
              "    </tr>\n",
              "    <tr>\n",
              "      <th>27</th>\n",
              "      <td>entropy</td>\n",
              "      <td>None</td>\n",
              "      <td>1</td>\n",
              "      <td>0.869169</td>\n",
              "      <td>0.015122</td>\n",
              "      <td>16</td>\n",
              "    </tr>\n",
              "    <tr>\n",
              "      <th>26</th>\n",
              "      <td>entropy</td>\n",
              "      <td>15</td>\n",
              "      <td>10</td>\n",
              "      <td>0.868514</td>\n",
              "      <td>0.012744</td>\n",
              "      <td>17</td>\n",
              "    </tr>\n",
              "    <tr>\n",
              "      <th>29</th>\n",
              "      <td>entropy</td>\n",
              "      <td>None</td>\n",
              "      <td>10</td>\n",
              "      <td>0.868514</td>\n",
              "      <td>0.012744</td>\n",
              "      <td>17</td>\n",
              "    </tr>\n",
              "    <tr>\n",
              "      <th>24</th>\n",
              "      <td>entropy</td>\n",
              "      <td>15</td>\n",
              "      <td>1</td>\n",
              "      <td>0.868496</td>\n",
              "      <td>0.012757</td>\n",
              "      <td>19</td>\n",
              "    </tr>\n",
              "    <tr>\n",
              "      <th>22</th>\n",
              "      <td>entropy</td>\n",
              "      <td>10</td>\n",
              "      <td>5</td>\n",
              "      <td>0.867151</td>\n",
              "      <td>0.014630</td>\n",
              "      <td>20</td>\n",
              "    </tr>\n",
              "    <tr>\n",
              "      <th>13</th>\n",
              "      <td>gini</td>\n",
              "      <td>None</td>\n",
              "      <td>5</td>\n",
              "      <td>0.866503</td>\n",
              "      <td>0.012551</td>\n",
              "      <td>21</td>\n",
              "    </tr>\n",
              "    <tr>\n",
              "      <th>2</th>\n",
              "      <td>gini</td>\n",
              "      <td>2</td>\n",
              "      <td>10</td>\n",
              "      <td>0.865811</td>\n",
              "      <td>0.003968</td>\n",
              "      <td>22</td>\n",
              "    </tr>\n",
              "    <tr>\n",
              "      <th>28</th>\n",
              "      <td>entropy</td>\n",
              "      <td>None</td>\n",
              "      <td>5</td>\n",
              "      <td>0.865142</td>\n",
              "      <td>0.007301</td>\n",
              "      <td>23</td>\n",
              "    </tr>\n",
              "    <tr>\n",
              "      <th>0</th>\n",
              "      <td>gini</td>\n",
              "      <td>2</td>\n",
              "      <td>1</td>\n",
              "      <td>0.865138</td>\n",
              "      <td>0.004268</td>\n",
              "      <td>24</td>\n",
              "    </tr>\n",
              "    <tr>\n",
              "      <th>17</th>\n",
              "      <td>entropy</td>\n",
              "      <td>2</td>\n",
              "      <td>10</td>\n",
              "      <td>0.865136</td>\n",
              "      <td>0.003779</td>\n",
              "      <td>25</td>\n",
              "    </tr>\n",
              "    <tr>\n",
              "      <th>15</th>\n",
              "      <td>entropy</td>\n",
              "      <td>2</td>\n",
              "      <td>1</td>\n",
              "      <td>0.864462</td>\n",
              "      <td>0.003981</td>\n",
              "      <td>26</td>\n",
              "    </tr>\n",
              "    <tr>\n",
              "      <th>25</th>\n",
              "      <td>entropy</td>\n",
              "      <td>15</td>\n",
              "      <td>5</td>\n",
              "      <td>0.863791</td>\n",
              "      <td>0.007833</td>\n",
              "      <td>27</td>\n",
              "    </tr>\n",
              "    <tr>\n",
              "      <th>10</th>\n",
              "      <td>gini</td>\n",
              "      <td>15</td>\n",
              "      <td>5</td>\n",
              "      <td>0.863131</td>\n",
              "      <td>0.014083</td>\n",
              "      <td>28</td>\n",
              "    </tr>\n",
              "    <tr>\n",
              "      <th>1</th>\n",
              "      <td>gini</td>\n",
              "      <td>2</td>\n",
              "      <td>5</td>\n",
              "      <td>0.861771</td>\n",
              "      <td>0.007299</td>\n",
              "      <td>29</td>\n",
              "    </tr>\n",
              "    <tr>\n",
              "      <th>16</th>\n",
              "      <td>entropy</td>\n",
              "      <td>2</td>\n",
              "      <td>5</td>\n",
              "      <td>0.861769</td>\n",
              "      <td>0.007641</td>\n",
              "      <td>30</td>\n",
              "    </tr>\n",
              "  </tbody>\n",
              "</table>\n",
              "</div>\n",
              "      <button class=\"colab-df-convert\" onclick=\"convertToInteractive('df-e0cfcd6e-b78f-42bf-9bae-b827c58f1100')\"\n",
              "              title=\"Convert this dataframe to an interactive table.\"\n",
              "              style=\"display:none;\">\n",
              "        \n",
              "  <svg xmlns=\"http://www.w3.org/2000/svg\" height=\"24px\"viewBox=\"0 0 24 24\"\n",
              "       width=\"24px\">\n",
              "    <path d=\"M0 0h24v24H0V0z\" fill=\"none\"/>\n",
              "    <path d=\"M18.56 5.44l.94 2.06.94-2.06 2.06-.94-2.06-.94-.94-2.06-.94 2.06-2.06.94zm-11 1L8.5 8.5l.94-2.06 2.06-.94-2.06-.94L8.5 2.5l-.94 2.06-2.06.94zm10 10l.94 2.06.94-2.06 2.06-.94-2.06-.94-.94-2.06-.94 2.06-2.06.94z\"/><path d=\"M17.41 7.96l-1.37-1.37c-.4-.4-.92-.59-1.43-.59-.52 0-1.04.2-1.43.59L10.3 9.45l-7.72 7.72c-.78.78-.78 2.05 0 2.83L4 21.41c.39.39.9.59 1.41.59.51 0 1.02-.2 1.41-.59l7.78-7.78 2.81-2.81c.8-.78.8-2.07 0-2.86zM5.41 20L4 18.59l7.72-7.72 1.47 1.35L5.41 20z\"/>\n",
              "  </svg>\n",
              "      </button>\n",
              "      \n",
              "  <style>\n",
              "    .colab-df-container {\n",
              "      display:flex;\n",
              "      flex-wrap:wrap;\n",
              "      gap: 12px;\n",
              "    }\n",
              "\n",
              "    .colab-df-convert {\n",
              "      background-color: #E8F0FE;\n",
              "      border: none;\n",
              "      border-radius: 50%;\n",
              "      cursor: pointer;\n",
              "      display: none;\n",
              "      fill: #1967D2;\n",
              "      height: 32px;\n",
              "      padding: 0 0 0 0;\n",
              "      width: 32px;\n",
              "    }\n",
              "\n",
              "    .colab-df-convert:hover {\n",
              "      background-color: #E2EBFA;\n",
              "      box-shadow: 0px 1px 2px rgba(60, 64, 67, 0.3), 0px 1px 3px 1px rgba(60, 64, 67, 0.15);\n",
              "      fill: #174EA6;\n",
              "    }\n",
              "\n",
              "    [theme=dark] .colab-df-convert {\n",
              "      background-color: #3B4455;\n",
              "      fill: #D2E3FC;\n",
              "    }\n",
              "\n",
              "    [theme=dark] .colab-df-convert:hover {\n",
              "      background-color: #434B5C;\n",
              "      box-shadow: 0px 1px 3px 1px rgba(0, 0, 0, 0.15);\n",
              "      filter: drop-shadow(0px 1px 2px rgba(0, 0, 0, 0.3));\n",
              "      fill: #FFFFFF;\n",
              "    }\n",
              "  </style>\n",
              "\n",
              "      <script>\n",
              "        const buttonEl =\n",
              "          document.querySelector('#df-e0cfcd6e-b78f-42bf-9bae-b827c58f1100 button.colab-df-convert');\n",
              "        buttonEl.style.display =\n",
              "          google.colab.kernel.accessAllowed ? 'block' : 'none';\n",
              "\n",
              "        async function convertToInteractive(key) {\n",
              "          const element = document.querySelector('#df-e0cfcd6e-b78f-42bf-9bae-b827c58f1100');\n",
              "          const dataTable =\n",
              "            await google.colab.kernel.invokeFunction('convertToInteractive',\n",
              "                                                     [key], {});\n",
              "          if (!dataTable) return;\n",
              "\n",
              "          const docLinkHtml = 'Like what you see? Visit the ' +\n",
              "            '<a target=\"_blank\" href=https://colab.research.google.com/notebooks/data_table.ipynb>data table notebook</a>'\n",
              "            + ' to learn more about interactive tables.';\n",
              "          element.innerHTML = '';\n",
              "          dataTable['output_type'] = 'display_data';\n",
              "          await google.colab.output.renderOutput(dataTable, element);\n",
              "          const docLink = document.createElement('div');\n",
              "          docLink.innerHTML = docLinkHtml;\n",
              "          element.appendChild(docLink);\n",
              "        }\n",
              "      </script>\n",
              "    </div>\n",
              "  </div>\n",
              "  "
            ]
          },
          "metadata": {},
          "execution_count": 49
        }
      ]
    },
    {
      "cell_type": "code",
      "source": [
        "cv_best = cv.best_estimator_"
      ],
      "metadata": {
        "id": "rp5kDFhWBAcT"
      },
      "execution_count": 50,
      "outputs": []
    },
    {
      "cell_type": "code",
      "source": [
        "cv.best_params_"
      ],
      "metadata": {
        "colab": {
          "base_uri": "https://localhost:8080/"
        },
        "id": "0cJl4MUrBH7e",
        "outputId": "18467aad-21d3-4d3e-f36a-99f640d2db03"
      },
      "execution_count": 51,
      "outputs": [
        {
          "output_type": "execute_result",
          "data": {
            "text/plain": [
              "{'criterion': 'gini', 'max_depth': 10, 'min_samples_leaf': 1}"
            ]
          },
          "metadata": {},
          "execution_count": 51
        }
      ]
    },
    {
      "cell_type": "code",
      "source": [
        "cv_best.fit(X_train, y_train)\n",
        "y_train_pred = cv_best.predict(X_train)\n",
        "y_test_pred = cv_best.predict(X_test)"
      ],
      "metadata": {
        "id": "179A_iUq4hlQ"
      },
      "execution_count": 52,
      "outputs": []
    },
    {
      "cell_type": "markdown",
      "source": [
        "####Analisis de la mejor configuracion"
      ],
      "metadata": {
        "id": "j9e7acmY4DI5"
      }
    },
    {
      "cell_type": "code",
      "source": [
        "plot_tree(cv_best,filled=True);"
      ],
      "metadata": {
        "colab": {
          "base_uri": "https://localhost:8080/",
          "height": 248
        },
        "id": "SMMZ1vus6Hup",
        "outputId": "2dde9be4-96f0-40f2-9c14-fcc994168085"
      },
      "execution_count": 53,
      "outputs": [
        {
          "output_type": "display_data",
          "data": {
            "text/plain": [
              "<Figure size 432x288 with 1 Axes>"
            ],
            "image/png": "[encoded data removed]"
          },
          "metadata": {
            "needs_background": "light"
          }
        }
      ]
    },
    {
      "cell_type": "code",
      "source": [
        "from sklearn.metrics import accuracy_score, precision_score, recall_score, f1_score, confusion_matrix\n",
        "\n",
        "train_acc = accuracy_score(y_train, y_train_pred)\n",
        "test_acc = accuracy_score(y_test, y_test_pred)\n",
        "train_prec = precision_score(y_train, y_train_pred)\n",
        "test_prec = precision_score(y_test, y_test_pred)\n",
        "train_rec = recall_score(y_train, y_train_pred)\n",
        "test_rec = recall_score(y_test, y_test_pred)\n",
        "train_f1 = f1_score(y_train, y_train_pred)\n",
        "test_f1 = f1_score(y_test, y_test_pred)\n",
        "print(f'Train accuracy: {train_acc:0.2}')\n",
        "print(f'Test accuracy: {test_acc:0.2}')\n",
        "print(f'Train precision: {train_prec:0.2}')\n",
        "print(f'Test precision: {test_prec:0.2}')\n",
        "print(f'Train recall: {train_rec:0.2}')\n",
        "print(f'Test recall: {test_rec:0.2}')\n",
        "print(f'Train f1: {train_f1:0.2}')\n",
        "print(f'Test f1: {test_f1:0.2}')\n",
        "\n"
      ],
      "metadata": {
        "id": "sSeZ5axtg1G2",
        "colab": {
          "base_uri": "https://localhost:8080/"
        },
        "outputId": "71356ce7-395e-4cda-e0a2-ae86185fd765"
      },
      "execution_count": 54,
      "outputs": [
        {
          "output_type": "stream",
          "name": "stdout",
          "text": [
            "Train accuracy: 0.96\n",
            "Test accuracy: 0.91\n",
            "Train precision: 0.99\n",
            "Test precision: 0.8\n",
            "Train recall: 0.75\n",
            "Test recall: 0.57\n",
            "Train f1: 0.85\n",
            "Test f1: 0.67\n"
          ]
        }
      ]
    },
    {
      "cell_type": "code",
      "source": [
        "plot_confusion_matrix(confusion_matrix(y_train, y_train_pred), [\"0\",\"1\"])"
      ],
      "metadata": {
        "colab": {
          "base_uri": "https://localhost:8080/",
          "height": 311
        },
        "id": "pt8l2Qv74V93",
        "outputId": "c6711a27-edce-4c11-857d-b64445f8b62a"
      },
      "execution_count": 55,
      "outputs": [
        {
          "output_type": "display_data",
          "data": {
            "text/plain": [
              "<Figure size 432x288 with 2 Axes>"
            ],
            "image/png": "[encoded data removed]"
          },
          "metadata": {
            "needs_background": "light"
          }
        }
      ]
    },
    {
      "cell_type": "code",
      "source": [
        "plot_confusion_matrix(confusion_matrix(y_test, y_test_pred), [\"0\",\"1\"])"
      ],
      "metadata": {
        "colab": {
          "base_uri": "https://localhost:8080/",
          "height": 311
        },
        "id": "8cw2f1Ma5Ouj",
        "outputId": "0ac5e2c0-7a46-411f-a707-aae752e01e38"
      },
      "execution_count": 56,
      "outputs": [
        {
          "output_type": "display_data",
          "data": {
            "text/plain": [
              "<Figure size 432x288 with 2 Axes>"
            ],
            "image/png": "[encoded data removed]"
          },
          "metadata": {
            "needs_background": "light"
          }
        }
      ]
    },
    {
      "cell_type": "code",
      "source": [
        ""
      ],
      "metadata": {
        "id": "r1H_5l8t5RGC"
      },
      "execution_count": 56,
      "outputs": []
    }
  ],
  "metadata": {
    "kernelspec": {
      "display_name": "Python 3",
      "language": "python",
      "name": "python3"
    },
    "language_info": {
      "codemirror_mode": {
        "name": "ipython",
        "version": 3
      },
      "file_extension": ".py",
      "mimetype": "text/x-python",
      "name": "python",
      "nbconvert_exporter": "python",
      "pygments_lexer": "ipython3",
      "version": "3.8.10"
    },
    "colab": {
      "name": "IaAU - Lab 2.ipynb",
      "provenance": [],
      "collapsed_sections": []
    }
  },
  "nbformat": 4,
  "nbformat_minor": 0
}